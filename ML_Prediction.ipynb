{
 "cells": [
  {
   "cell_type": "code",
   "execution_count": 195,
   "metadata": {},
   "outputs": [],
   "source": [
    "import pandas\n",
    "\n",
    "df = pandas.read_excel('./data/mental_health_dataset_correct.xlsx')"
   ]
  },
  {
   "cell_type": "code",
   "execution_count": 196,
   "metadata": {},
   "outputs": [
    {
     "data": {
      "text/plain": [
       "(25000, 6)"
      ]
     },
     "execution_count": 196,
     "metadata": {},
     "output_type": "execute_result"
    }
   ],
   "source": [
    "df.shape"
   ]
  },
  {
   "cell_type": "code",
   "execution_count": 197,
   "metadata": {},
   "outputs": [
    {
     "name": "stdout",
     "output_type": "stream",
     "text": [
      "<class 'pandas.core.frame.DataFrame'>\n",
      "RangeIndex: 25000 entries, 0 to 24999\n",
      "Data columns (total 6 columns):\n",
      " #   Column                    Non-Null Count  Dtype  \n",
      "---  ------                    --------------  -----  \n",
      " 0   Heart_Rate_BPM            25000 non-null  int64  \n",
      " 1   Sleep_Duration_Hours      25000 non-null  float64\n",
      " 2   Physical_Activity_Steps   25000 non-null  int64  \n",
      " 3   Mental_Health_Condition   22969 non-null  float64\n",
      " 4   Oxygen_Saturation         25000 non-null  float64\n",
      " 5   Body_Temperature_Celsius  25000 non-null  float64\n",
      "dtypes: float64(4), int64(2)\n",
      "memory usage: 1.1 MB\n"
     ]
    }
   ],
   "source": [
    "df.info()"
   ]
  },
  {
   "cell_type": "code",
   "execution_count": 198,
   "metadata": {},
   "outputs": [
    {
     "data": {
      "text/html": [
       "<div>\n",
       "<style scoped>\n",
       "    .dataframe tbody tr th:only-of-type {\n",
       "        vertical-align: middle;\n",
       "    }\n",
       "\n",
       "    .dataframe tbody tr th {\n",
       "        vertical-align: top;\n",
       "    }\n",
       "\n",
       "    .dataframe thead th {\n",
       "        text-align: right;\n",
       "    }\n",
       "</style>\n",
       "<table border=\"1\" class=\"dataframe\">\n",
       "  <thead>\n",
       "    <tr style=\"text-align: right;\">\n",
       "      <th></th>\n",
       "      <th>Heart_Rate_BPM</th>\n",
       "      <th>Sleep_Duration_Hours</th>\n",
       "      <th>Physical_Activity_Steps</th>\n",
       "      <th>Mental_Health_Condition</th>\n",
       "      <th>Oxygen_Saturation</th>\n",
       "      <th>Body_Temperature_Celsius</th>\n",
       "    </tr>\n",
       "  </thead>\n",
       "  <tbody>\n",
       "    <tr>\n",
       "      <th>0</th>\n",
       "      <td>98</td>\n",
       "      <td>7.425124</td>\n",
       "      <td>13760</td>\n",
       "      <td>1.0</td>\n",
       "      <td>96.8</td>\n",
       "      <td>37.1</td>\n",
       "    </tr>\n",
       "    <tr>\n",
       "      <th>1</th>\n",
       "      <td>111</td>\n",
       "      <td>9.457572</td>\n",
       "      <td>11455</td>\n",
       "      <td>0.0</td>\n",
       "      <td>97.7</td>\n",
       "      <td>37.2</td>\n",
       "    </tr>\n",
       "    <tr>\n",
       "      <th>2</th>\n",
       "      <td>88</td>\n",
       "      <td>4.037103</td>\n",
       "      <td>9174</td>\n",
       "      <td>1.0</td>\n",
       "      <td>97.7</td>\n",
       "      <td>37.0</td>\n",
       "    </tr>\n",
       "    <tr>\n",
       "      <th>3</th>\n",
       "      <td>74</td>\n",
       "      <td>8.864101</td>\n",
       "      <td>12612</td>\n",
       "      <td>1.0</td>\n",
       "      <td>96.1</td>\n",
       "      <td>36.7</td>\n",
       "    </tr>\n",
       "    <tr>\n",
       "      <th>4</th>\n",
       "      <td>102</td>\n",
       "      <td>9.690217</td>\n",
       "      <td>3923</td>\n",
       "      <td>0.0</td>\n",
       "      <td>97.2</td>\n",
       "      <td>37.4</td>\n",
       "    </tr>\n",
       "  </tbody>\n",
       "</table>\n",
       "</div>"
      ],
      "text/plain": [
       "   Heart_Rate_BPM  Sleep_Duration_Hours  Physical_Activity_Steps  \\\n",
       "0              98              7.425124                    13760   \n",
       "1             111              9.457572                    11455   \n",
       "2              88              4.037103                     9174   \n",
       "3              74              8.864101                    12612   \n",
       "4             102              9.690217                     3923   \n",
       "\n",
       "   Mental_Health_Condition  Oxygen_Saturation  Body_Temperature_Celsius  \n",
       "0                      1.0               96.8                      37.1  \n",
       "1                      0.0               97.7                      37.2  \n",
       "2                      1.0               97.7                      37.0  \n",
       "3                      1.0               96.1                      36.7  \n",
       "4                      0.0               97.2                      37.4  "
      ]
     },
     "execution_count": 198,
     "metadata": {},
     "output_type": "execute_result"
    }
   ],
   "source": [
    "df.head()"
   ]
  },
  {
   "cell_type": "code",
   "execution_count": 199,
   "metadata": {},
   "outputs": [
    {
     "data": {
      "text/html": [
       "<div>\n",
       "<style scoped>\n",
       "    .dataframe tbody tr th:only-of-type {\n",
       "        vertical-align: middle;\n",
       "    }\n",
       "\n",
       "    .dataframe tbody tr th {\n",
       "        vertical-align: top;\n",
       "    }\n",
       "\n",
       "    .dataframe thead th {\n",
       "        text-align: right;\n",
       "    }\n",
       "</style>\n",
       "<table border=\"1\" class=\"dataframe\">\n",
       "  <thead>\n",
       "    <tr style=\"text-align: right;\">\n",
       "      <th></th>\n",
       "      <th>Heart_Rate_BPM</th>\n",
       "      <th>Sleep_Duration_Hours</th>\n",
       "      <th>Physical_Activity_Steps</th>\n",
       "      <th>Mental_Health_Condition</th>\n",
       "      <th>Oxygen_Saturation</th>\n",
       "      <th>Body_Temperature_Celsius</th>\n",
       "    </tr>\n",
       "  </thead>\n",
       "  <tbody>\n",
       "    <tr>\n",
       "      <th>24995</th>\n",
       "      <td>101</td>\n",
       "      <td>4.32</td>\n",
       "      <td>4286</td>\n",
       "      <td>0.0</td>\n",
       "      <td>98.5</td>\n",
       "      <td>36.2</td>\n",
       "    </tr>\n",
       "    <tr>\n",
       "      <th>24996</th>\n",
       "      <td>70</td>\n",
       "      <td>8.89</td>\n",
       "      <td>3765</td>\n",
       "      <td>1.0</td>\n",
       "      <td>98.4</td>\n",
       "      <td>36.4</td>\n",
       "    </tr>\n",
       "    <tr>\n",
       "      <th>24997</th>\n",
       "      <td>88</td>\n",
       "      <td>7.82</td>\n",
       "      <td>2804</td>\n",
       "      <td>1.0</td>\n",
       "      <td>97.7</td>\n",
       "      <td>36.6</td>\n",
       "    </tr>\n",
       "    <tr>\n",
       "      <th>24998</th>\n",
       "      <td>76</td>\n",
       "      <td>6.23</td>\n",
       "      <td>7649</td>\n",
       "      <td>1.0</td>\n",
       "      <td>96.8</td>\n",
       "      <td>37.2</td>\n",
       "    </tr>\n",
       "    <tr>\n",
       "      <th>24999</th>\n",
       "      <td>85</td>\n",
       "      <td>8.57</td>\n",
       "      <td>4730</td>\n",
       "      <td>1.0</td>\n",
       "      <td>98.1</td>\n",
       "      <td>36.5</td>\n",
       "    </tr>\n",
       "  </tbody>\n",
       "</table>\n",
       "</div>"
      ],
      "text/plain": [
       "       Heart_Rate_BPM  Sleep_Duration_Hours  Physical_Activity_Steps  \\\n",
       "24995             101                  4.32                     4286   \n",
       "24996              70                  8.89                     3765   \n",
       "24997              88                  7.82                     2804   \n",
       "24998              76                  6.23                     7649   \n",
       "24999              85                  8.57                     4730   \n",
       "\n",
       "       Mental_Health_Condition  Oxygen_Saturation  Body_Temperature_Celsius  \n",
       "24995                      0.0               98.5                      36.2  \n",
       "24996                      1.0               98.4                      36.4  \n",
       "24997                      1.0               97.7                      36.6  \n",
       "24998                      1.0               96.8                      37.2  \n",
       "24999                      1.0               98.1                      36.5  "
      ]
     },
     "execution_count": 199,
     "metadata": {},
     "output_type": "execute_result"
    }
   ],
   "source": [
    "df.tail()"
   ]
  },
  {
   "cell_type": "code",
   "execution_count": 200,
   "metadata": {},
   "outputs": [
    {
     "data": {
      "text/html": [
       "<div>\n",
       "<style scoped>\n",
       "    .dataframe tbody tr th:only-of-type {\n",
       "        vertical-align: middle;\n",
       "    }\n",
       "\n",
       "    .dataframe tbody tr th {\n",
       "        vertical-align: top;\n",
       "    }\n",
       "\n",
       "    .dataframe thead th {\n",
       "        text-align: right;\n",
       "    }\n",
       "</style>\n",
       "<table border=\"1\" class=\"dataframe\">\n",
       "  <thead>\n",
       "    <tr style=\"text-align: right;\">\n",
       "      <th></th>\n",
       "      <th>Heart_Rate_BPM</th>\n",
       "      <th>Sleep_Duration_Hours</th>\n",
       "      <th>Physical_Activity_Steps</th>\n",
       "      <th>Mental_Health_Condition</th>\n",
       "      <th>Oxygen_Saturation</th>\n",
       "      <th>Body_Temperature_Celsius</th>\n",
       "    </tr>\n",
       "  </thead>\n",
       "  <tbody>\n",
       "    <tr>\n",
       "      <th>count</th>\n",
       "      <td>25000.000000</td>\n",
       "      <td>25000.000000</td>\n",
       "      <td>25000.000000</td>\n",
       "      <td>22969.000000</td>\n",
       "      <td>25000.000000</td>\n",
       "      <td>25000.000000</td>\n",
       "    </tr>\n",
       "    <tr>\n",
       "      <th>mean</th>\n",
       "      <td>89.664440</td>\n",
       "      <td>7.288069</td>\n",
       "      <td>8318.329680</td>\n",
       "      <td>0.513997</td>\n",
       "      <td>97.493144</td>\n",
       "      <td>36.802164</td>\n",
       "    </tr>\n",
       "    <tr>\n",
       "      <th>std</th>\n",
       "      <td>17.296218</td>\n",
       "      <td>1.606316</td>\n",
       "      <td>3890.514335</td>\n",
       "      <td>0.499815</td>\n",
       "      <td>1.008217</td>\n",
       "      <td>0.300271</td>\n",
       "    </tr>\n",
       "    <tr>\n",
       "      <th>min</th>\n",
       "      <td>60.000000</td>\n",
       "      <td>3.000000</td>\n",
       "      <td>1000.000000</td>\n",
       "      <td>0.000000</td>\n",
       "      <td>93.600000</td>\n",
       "      <td>35.600000</td>\n",
       "    </tr>\n",
       "    <tr>\n",
       "      <th>25%</th>\n",
       "      <td>75.000000</td>\n",
       "      <td>6.110000</td>\n",
       "      <td>4940.000000</td>\n",
       "      <td>0.000000</td>\n",
       "      <td>96.800000</td>\n",
       "      <td>36.600000</td>\n",
       "    </tr>\n",
       "    <tr>\n",
       "      <th>50%</th>\n",
       "      <td>89.000000</td>\n",
       "      <td>7.330000</td>\n",
       "      <td>8339.000000</td>\n",
       "      <td>1.000000</td>\n",
       "      <td>97.500000</td>\n",
       "      <td>36.800000</td>\n",
       "    </tr>\n",
       "    <tr>\n",
       "      <th>75%</th>\n",
       "      <td>105.000000</td>\n",
       "      <td>8.497905</td>\n",
       "      <td>11700.000000</td>\n",
       "      <td>1.000000</td>\n",
       "      <td>98.200000</td>\n",
       "      <td>37.000000</td>\n",
       "    </tr>\n",
       "    <tr>\n",
       "      <th>max</th>\n",
       "      <td>119.000000</td>\n",
       "      <td>12.000000</td>\n",
       "      <td>14999.000000</td>\n",
       "      <td>1.000000</td>\n",
       "      <td>101.300000</td>\n",
       "      <td>38.000000</td>\n",
       "    </tr>\n",
       "  </tbody>\n",
       "</table>\n",
       "</div>"
      ],
      "text/plain": [
       "       Heart_Rate_BPM  Sleep_Duration_Hours  Physical_Activity_Steps  \\\n",
       "count    25000.000000          25000.000000             25000.000000   \n",
       "mean        89.664440              7.288069              8318.329680   \n",
       "std         17.296218              1.606316              3890.514335   \n",
       "min         60.000000              3.000000              1000.000000   \n",
       "25%         75.000000              6.110000              4940.000000   \n",
       "50%         89.000000              7.330000              8339.000000   \n",
       "75%        105.000000              8.497905             11700.000000   \n",
       "max        119.000000             12.000000             14999.000000   \n",
       "\n",
       "       Mental_Health_Condition  Oxygen_Saturation  Body_Temperature_Celsius  \n",
       "count             22969.000000       25000.000000              25000.000000  \n",
       "mean                  0.513997          97.493144                 36.802164  \n",
       "std                   0.499815           1.008217                  0.300271  \n",
       "min                   0.000000          93.600000                 35.600000  \n",
       "25%                   0.000000          96.800000                 36.600000  \n",
       "50%                   1.000000          97.500000                 36.800000  \n",
       "75%                   1.000000          98.200000                 37.000000  \n",
       "max                   1.000000         101.300000                 38.000000  "
      ]
     },
     "execution_count": 200,
     "metadata": {},
     "output_type": "execute_result"
    }
   ],
   "source": [
    "df.describe()"
   ]
  },
  {
   "cell_type": "code",
   "execution_count": 201,
   "metadata": {},
   "outputs": [
    {
     "data": {
      "text/plain": [
       "Heart_Rate_BPM                 0\n",
       "Sleep_Duration_Hours           0\n",
       "Physical_Activity_Steps        0\n",
       "Mental_Health_Condition     2031\n",
       "Oxygen_Saturation              0\n",
       "Body_Temperature_Celsius       0\n",
       "dtype: int64"
      ]
     },
     "execution_count": 201,
     "metadata": {},
     "output_type": "execute_result"
    }
   ],
   "source": [
    "df.isnull().sum()\n",
    "# df.dropna(inplace=True)\n"
   ]
  },
  {
   "cell_type": "code",
   "execution_count": 202,
   "metadata": {},
   "outputs": [],
   "source": [
    "df = df.dropna(subset=['Mental_Health_Condition'])"
   ]
  },
  {
   "cell_type": "code",
   "execution_count": 203,
   "metadata": {},
   "outputs": [
    {
     "data": {
      "image/png": "[encoded data removed]",
      "text/plain": [
       "<Figure size 400x400 with 1 Axes>"
      ]
     },
     "metadata": {},
     "output_type": "display_data"
    }
   ],
   "source": [
    "import matplotlib.pyplot as plt\n",
    "\n",
    "labels_count = df['Mental_Health_Condition'].value_counts()\n",
    "\n",
    "labels = ['Mentally_Fit (0)','Not_Fit (1)']\n",
    "sizes = [labels_count[0],labels_count[1]]\n",
    "colors = ['green','yellow']\n",
    "explode = (0.05,0)\n",
    "\n",
    "# Creating the pie chart\n",
    "plt.figure(figsize=(4, 4))\n",
    "plt.pie(sizes, labels=labels, autopct='%1.1f%%', startangle=140, colors=colors, explode=explode)\n",
    "plt.title('Distribution of Mental Health Labels')\n",
    "plt.show()"
   ]
  },
  {
   "cell_type": "code",
   "execution_count": 204,
   "metadata": {},
   "outputs": [
    {
     "name": "stdout",
     "output_type": "stream",
     "text": [
      "\n",
      "First few rows of normalized dataframe:\n",
      "   Heart_Rate_BPM  Sleep_Duration_Hours  Physical_Activity_Steps  \\\n",
      "0              98              7.425124                    13760   \n",
      "1             111              9.457572                    11455   \n",
      "2              88              4.037103                     9174   \n",
      "3              74              8.864101                    12612   \n",
      "4             102              9.690217                     3923   \n",
      "\n",
      "   Mental_Health_Condition  Oxygen_Saturation  Body_Temperature_Celsius  \\\n",
      "0                      1.0               96.8                      37.1   \n",
      "1                      0.0               97.7                      37.2   \n",
      "2                      1.0               97.7                      37.0   \n",
      "3                      1.0               96.1                      36.7   \n",
      "4                      0.0               97.2                      37.4   \n",
      "\n",
      "   sleep_efficiency  activity_intensity  stress_indicator  \n",
      "0          0.928140           30.886130          2.523379  \n",
      "1          1.182197           20.186646          0.602095  \n",
      "2          0.504638           37.873694          5.247349  \n",
      "3          1.108013           23.713628          0.840565  \n",
      "4          1.211277            6.747355          0.315978  \n",
      "\n",
      "Feature Engineering Complete. New features added:\n",
      "\n",
      "Original shape: (22969, 9)\n",
      "Shape after adding features: (22969, 9)\n",
      "\n",
      "Sample of weekly aggregated stats:\n",
      "   Heart_Rate_BPM_mean  Heart_Rate_BPM_std  Sleep_Duration_Hours_mean  \\\n",
      "0                88.57               15.94                       7.00   \n",
      "1                85.43               16.85                       7.13   \n",
      "2                92.00               18.07                       7.35   \n",
      "3                87.57               21.41                       7.37   \n",
      "4                89.71               15.70                       7.13   \n",
      "\n",
      "   Sleep_Duration_Hours_min  Physical_Activity_Steps_mean  \\\n",
      "0                      4.04                       9658.43   \n",
      "1                      4.09                       8281.71   \n",
      "2                      5.01                       6745.29   \n",
      "3                      5.36                      10152.71   \n",
      "4                      5.02                       7251.14   \n",
      "\n",
      "   Physical_Activity_Steps_sum  Oxygen_Saturation_mean  \\\n",
      "0                        67609                   97.47   \n",
      "1                        57972                   97.46   \n",
      "2                        47217                   97.39   \n",
      "3                        71069                   97.24   \n",
      "4                        50758                   96.91   \n",
      "\n",
      "   Body_Temperature_Celsius_mean  Mental_Health_Condition_mean  \n",
      "0                          36.97                          0.71  \n",
      "1                          36.83                          0.71  \n",
      "2                          37.00                          0.57  \n",
      "3                          36.84                          0.86  \n",
      "4                          36.89                          0.71  \n"
     ]
    }
   ],
   "source": [
    "# Heart Rate Variability (using standard deviation as a simple measure)\n",
    "# heart_rate_std = df.groupby(df.index // 24)['Heart_Rate_BPM'].std().reset_index()\n",
    "# heart_rate_std.columns = ['day', 'heart_rate_variability'] \n",
    "# df = df.join(heart_rate_std.set_index('day'), on=df.index // 24)\n",
    "\n",
    "# Sleep efficiency (ideal sleep = 8 hours)\n",
    "df['sleep_efficiency'] = df['Sleep_Duration_Hours'] / 8\n",
    "\n",
    "# Activity intensity (steps per minute of awake time)\n",
    "df['activity_intensity'] = df['Physical_Activity_Steps'] / (df['Sleep_Duration_Hours'] * 60)\n",
    "\n",
    "# Stress indicator (arbitrary formula, tune as needed)\n",
    "df['stress_indicator'] = (df['Heart_Rate_BPM'] * (10 - df['Sleep_Duration_Hours'])) / 100\n",
    "\n",
    "\n",
    "# 2.3 Normalization and Aggregation\n",
    "from sklearn.preprocessing import StandardScaler\n",
    "\n",
    "# Create a scaler object\n",
    "scaler = StandardScaler()\n",
    "\n",
    "# List of columns to normalize\n",
    "columns_to_normalize = ['Heart_Rate_BPM', 'Sleep_Duration_Hours', 'Physical_Activity_Steps', \n",
    "                       'Oxygen_Saturation','Body_Temperature_Celsius',\n",
    "                       'sleep_efficiency', 'activity_intensity', 'stress_indicator']\n",
    "\n",
    "# Normalize the selected columns\n",
    "df_normalized = df.copy()\n",
    "# Display the first few rows of the normalized dataframe\n",
    "print(\"\\nFirst few rows of normalized dataframe:\")\n",
    "print(df_normalized.head())\n",
    "\n",
    "# df.head()\n",
    "\n",
    "df_normalized[columns_to_normalize] = scaler.fit_transform(df[columns_to_normalize])\n",
    "\n",
    "# Weekly aggregations\n",
    "weekly_stats = df.groupby(df.index // 7).agg({\n",
    "    'Heart_Rate_BPM': ['mean', 'std'],\n",
    "    'Sleep_Duration_Hours': ['mean', 'min'],\n",
    "    'Physical_Activity_Steps': ['mean', 'sum'],\n",
    "    'Oxygen_Saturation': 'mean',\n",
    "    'Body_Temperature_Celsius': 'mean',\n",
    "    'Mental_Health_Condition': 'mean'\n",
    "}).round(2)\n",
    "\n",
    "# Flatten column names\n",
    "weekly_stats.columns = ['_'.join(col).strip() for col in weekly_stats.columns.values]\n",
    "\n",
    "print(\"\\nFeature Engineering Complete. New features added:\")\n",
    "print(\"\\nOriginal shape:\", df.shape)\n",
    "print(\"Shape after adding features:\", df_normalized.shape)\n",
    "print(\"\\nSample of weekly aggregated stats:\")\n",
    "print(weekly_stats.head())\n"
   ]
  },
  {
   "cell_type": "code",
   "execution_count": 205,
   "metadata": {},
   "outputs": [],
   "source": [
    "# Model Selection and Training\n",
    "\n",
    "from sklearn.model_selection import train_test_split\n",
    "from sklearn.ensemble import RandomForestClassifier, VotingClassifier\n",
    "from sklearn.linear_model import LogisticRegression\n",
    "from sklearn.tree import DecisionTreeClassifier\n",
    "from sklearn.neighbors import KNeighborsClassifier\n",
    "from sklearn.svm import SVC\n",
    "from sklearn.metrics import classification_report, confusion_matrix, accuracy_score, precision_score, f1_score\n",
    "import seaborn as sns\n",
    "import matplotlib.pyplot as plt"
   ]
  },
  {
   "cell_type": "code",
   "execution_count": 206,
   "metadata": {},
   "outputs": [
    {
     "name": "stdout",
     "output_type": "stream",
     "text": [
      "Training features shape: (18375, 5)\n",
      "Testing features shape: (4594, 5)\n",
      "Training labels distribution:\n",
      " Mental_Health_Condition\n",
      "1.0    0.514014\n",
      "0.0    0.485986\n",
      "Name: proportion, dtype: float64\n",
      "Testing labels distribution:\n",
      " Mental_Health_Condition\n",
      "1.0    0.513931\n",
      "0.0    0.486069\n",
      "Name: proportion, dtype: float64\n"
     ]
    }
   ],
   "source": [
    "features = ['Heart_Rate_BPM', 'Sleep_Duration_Hours', 'Physical_Activity_Steps', \n",
    "            'Oxygen_Saturation','Body_Temperature_Celsius']\n",
    "\n",
    "X = df_normalized[features]\n",
    "y = df['Mental_Health_Condition']\n",
    "\n",
    "from sklearn.model_selection import train_test_split\n",
    "\n",
    "X_train, X_test, y_train, y_test = train_test_split(\n",
    "    X, y,\n",
    "    test_size=0.2,\n",
    "    random_state=42,\n",
    "    stratify=y\n",
    ")\n",
    "\n",
    "print(\"Training features shape:\", X_train.shape)\n",
    "print(\"Testing features shape:\", X_test.shape)\n",
    "print(\"Training labels distribution:\\n\", y_train.value_counts(normalize=True))\n",
    "print(\"Testing labels distribution:\\n\", y_test.value_counts(normalize=True))\n"
   ]
  },
  {
   "cell_type": "code",
   "execution_count": 207,
   "metadata": {},
   "outputs": [
    {
     "name": "stdout",
     "output_type": "stream",
     "text": [
      "Boosted Scores - Logistic Regression:\n",
      "Accuracy: 0.62\n",
      "Precision: 0.62\n",
      "Recall: 0.65\n",
      "F1 Score: 0.64\n"
     ]
    },
    {
     "data": {
      "image/png": "[encoded data removed]",
      "text/plain": [
       "<Figure size 600x500 with 1 Axes>"
      ]
     },
     "metadata": {},
     "output_type": "display_data"
    },
    {
     "name": "stdout",
     "output_type": "stream",
     "text": [
      "\n",
      "Classification Report - Logistic Regression:\n",
      "              precision    recall  f1-score   support\n",
      "\n",
      "         0.0       0.61      0.58      0.60      2233\n",
      "         1.0       0.62      0.65      0.64      2361\n",
      "\n",
      "    accuracy                           0.62      4594\n",
      "   macro avg       0.62      0.62      0.62      4594\n",
      "weighted avg       0.62      0.62      0.62      4594\n",
      "\n",
      "Boosted Scores - Random Forest:\n",
      "Accuracy: 0.59\n",
      "Precision: 0.60\n",
      "Recall: 0.60\n",
      "F1 Score: 0.60\n"
     ]
    },
    {
     "data": {
      "image/png": "[encoded data removed]",
      "text/plain": [
       "<Figure size 600x500 with 1 Axes>"
      ]
     },
     "metadata": {},
     "output_type": "display_data"
    },
    {
     "name": "stdout",
     "output_type": "stream",
     "text": [
      "\n",
      "Classification Report - Random Forest:\n",
      "              precision    recall  f1-score   support\n",
      "\n",
      "         0.0       0.58      0.59      0.58      2233\n",
      "         1.0       0.60      0.60      0.60      2361\n",
      "\n",
      "    accuracy                           0.59      4594\n",
      "   macro avg       0.59      0.59      0.59      4594\n",
      "weighted avg       0.59      0.59      0.59      4594\n",
      "\n",
      "Boosted Scores - Decision Tree:\n",
      "Accuracy: 0.53\n",
      "Precision: 0.54\n",
      "Recall: 0.54\n",
      "F1 Score: 0.54\n"
     ]
    },
    {
     "data": {
      "image/png": "[encoded data removed]",
      "text/plain": [
       "<Figure size 600x500 with 1 Axes>"
      ]
     },
     "metadata": {},
     "output_type": "display_data"
    },
    {
     "name": "stdout",
     "output_type": "stream",
     "text": [
      "\n",
      "Classification Report - Decision Tree:\n",
      "              precision    recall  f1-score   support\n",
      "\n",
      "         0.0       0.52      0.52      0.52      2233\n",
      "         1.0       0.54      0.54      0.54      2361\n",
      "\n",
      "    accuracy                           0.53      4594\n",
      "   macro avg       0.53      0.53      0.53      4594\n",
      "weighted avg       0.53      0.53      0.53      4594\n",
      "\n",
      "Boosted Scores - KNN:\n",
      "Accuracy: 0.56\n",
      "Precision: 0.57\n",
      "Recall: 0.58\n",
      "F1 Score: 0.58\n"
     ]
    },
    {
     "data": {
      "image/png": "[encoded data removed]",
      "text/plain": [
       "<Figure size 600x500 with 1 Axes>"
      ]
     },
     "metadata": {},
     "output_type": "display_data"
    },
    {
     "name": "stdout",
     "output_type": "stream",
     "text": [
      "\n",
      "Classification Report - KNN:\n",
      "              precision    recall  f1-score   support\n",
      "\n",
      "         0.0       0.55      0.54      0.55      2233\n",
      "         1.0       0.57      0.58      0.58      2361\n",
      "\n",
      "    accuracy                           0.56      4594\n",
      "   macro avg       0.56      0.56      0.56      4594\n",
      "weighted avg       0.56      0.56      0.56      4594\n",
      "\n",
      "Boosted Scores - SVM:\n",
      "Accuracy: 0.61\n",
      "Precision: 0.63\n",
      "Recall: 0.62\n",
      "F1 Score: 0.62\n"
     ]
    },
    {
     "data": {
      "image/png": "[encoded data removed]",
      "text/plain": [
       "<Figure size 600x500 with 1 Axes>"
      ]
     },
     "metadata": {},
     "output_type": "display_data"
    },
    {
     "name": "stdout",
     "output_type": "stream",
     "text": [
      "\n",
      "Classification Report - SVM:\n",
      "              precision    recall  f1-score   support\n",
      "\n",
      "         0.0       0.60      0.61      0.60      2233\n",
      "         1.0       0.63      0.62      0.62      2361\n",
      "\n",
      "    accuracy                           0.61      4594\n",
      "   macro avg       0.61      0.61      0.61      4594\n",
      "weighted avg       0.61      0.61      0.61      4594\n",
      "\n"
     ]
    }
   ],
   "source": [
    "from sklearn.metrics import accuracy_score, precision_score, recall_score, f1_score, confusion_matrix, classification_report\n",
    "import seaborn as sns\n",
    "import matplotlib.pyplot as plt\n",
    "\n",
    "# Initialize lists to store metrics\n",
    "precisions = []\n",
    "recalls = []\n",
    "f1_scores = []\n",
    "\n",
    "# Define models\n",
    "models = {\n",
    "    'Logistic Regression': LogisticRegression(random_state=42),\n",
    "    'Random Forest': RandomForestClassifier(n_estimators=100, random_state=42),\n",
    "    'Decision Tree': DecisionTreeClassifier(random_state=42),\n",
    "    'KNN': KNeighborsClassifier(n_neighbors=5),\n",
    "    'SVM': SVC(random_state=42, probability=True)\n",
    "}\n",
    "\n",
    "# Dictionary to store results\n",
    "results = {}\n",
    "\n",
    "# Loop through models\n",
    "for name, model in models.items():\n",
    "    model.fit(X_train, y_train)\n",
    "    y_pred = model.predict(X_test)\n",
    "\n",
    "    accuracy = accuracy_score(y_test, y_pred)\n",
    "    precision = precision_score(y_test, y_pred, average='binary')  # use 'macro' for multiclass\n",
    "    recall = recall_score(y_test, y_pred, average='binary')\n",
    "    f1 = f1_score(y_test, y_pred, average='binary')\n",
    "    cm = confusion_matrix(y_test, y_pred)\n",
    "    report = classification_report(y_test, y_pred)\n",
    "\n",
    "    results[name] = {\n",
    "        'accuracy': accuracy,\n",
    "        'precision': precision,\n",
    "        'recall': recall,\n",
    "        'f1': f1,\n",
    "        'confusion_matrix': cm,\n",
    "        'classification_report': report\n",
    "    }\n",
    "\n",
    "    precisions.append(precision * 100)\n",
    "    recalls.append(recall * 100)\n",
    "    f1_scores.append(f1 * 100)\n",
    "    \n",
    "    print(f\"Boosted Scores - {name}:\")\n",
    "    print(f\"Accuracy: {results[name]['accuracy']:.2f}\")\n",
    "    print(f\"Precision: {results[name]['precision']:.2f}\")\n",
    "    print(f\"Recall: {results[name]['recall']:.2f}\")\n",
    "    print(f\"F1 Score: {results[name]['f1']:.2f}\")\n",
    "\n",
    "\n",
    "    # Confusion Matrix\n",
    "    plt.figure(figsize=(6, 5))\n",
    "    sns.heatmap(cm, annot=True, fmt='d', cmap='Blues', cbar=False)\n",
    "    plt.title(f'Confusion Matrix - {name}')\n",
    "    plt.ylabel('True Label')\n",
    "    plt.xlabel('Predicted Label')\n",
    "    plt.show()\n",
    "\n",
    "    print(f\"\\nClassification Report - {name}:\")\n",
    "    print(report)\n"
   ]
  },
  {
   "cell_type": "code",
   "execution_count": 208,
   "metadata": {},
   "outputs": [
    {
     "name": "stdout",
     "output_type": "stream",
     "text": [
      "0.6234646336298179\n",
      "[62.30174867832452, 60.45611015490534, 54.24808836023789, 57.340025094102884, 62.585034013605444]\n",
      "[63.56846473029045, 59.978655282817506, 54.16755037115588, 57.7020202020202, 62.465520899639294]\n"
     ]
    }
   ],
   "source": [
    "\n",
    "print(recall)\n",
    "print(precisions)\n",
    "print(f1_scores)\n"
   ]
  },
  {
   "cell_type": "code",
   "execution_count": 209,
   "metadata": {},
   "outputs": [
    {
     "name": "stdout",
     "output_type": "stream",
     "text": [
      "\n",
      "Ensemble Model Results:\n",
      "              precision    recall  f1-score   support\n",
      "\n",
      "         0.0       0.56      0.55      0.55      2233\n",
      "         1.0       0.58      0.60      0.59      2361\n",
      "\n",
      "    accuracy                           0.57      4594\n",
      "   macro avg       0.57      0.57      0.57      4594\n",
      "weighted avg       0.57      0.57      0.57      4594\n",
      "\n"
     ]
    },
    {
     "data": {
      "image/png": "[encoded data removed]",
      "text/plain": [
       "<Figure size 800x600 with 2 Axes>"
      ]
     },
     "metadata": {},
     "output_type": "display_data"
    }
   ],
   "source": [
    "from sklearn.ensemble import VotingClassifier\n",
    "from sklearn.metrics import accuracy_score, precision_score, recall_score, f1_score, classification_report, confusion_matrix\n",
    "import seaborn as sns\n",
    "import matplotlib.pyplot as plt\n",
    "\n",
    "# Create ensemble model from previously trained models\n",
    "estimators = [(name, model) for name, model in models.items()]\n",
    "ensemble = VotingClassifier(estimators=estimators, voting='soft')\n",
    "ensemble.fit(X_train, y_train)\n",
    "\n",
    "# Make predictions with ensemble\n",
    "y_pred_ensemble = ensemble.predict(X_test)\n",
    "\n",
    "# Calculate metrics\n",
    "accuracy = accuracy_score(y_test, y_pred_ensemble)\n",
    "precision = precision_score(y_test, y_pred_ensemble)\n",
    "recall = recall_score(y_test, y_pred_ensemble)\n",
    "f1 = f1_score(y_test, y_pred_ensemble)\n",
    "cm = confusion_matrix(y_test, y_pred_ensemble)\n",
    "report = classification_report(y_test, y_pred_ensemble)\n",
    "\n",
    "# Add to results dictionary for comparison later\n",
    "results['Ensemble Model'] = {\n",
    "    'accuracy': accuracy,\n",
    "    'precision': precision,\n",
    "    'recall': recall,\n",
    "    'f1': f1,\n",
    "    'confusion_matrix': cm,\n",
    "    'classification_report': report\n",
    "}\n",
    "\n",
    "# Print results\n",
    "print(\"\\nEnsemble Model Results:\")\n",
    "print(report)\n",
    "\n",
    "# Plot confusion matrix\n",
    "plt.figure(figsize=(8, 6))\n",
    "sns.heatmap(cm, annot=True, fmt='d', cmap='Blues')\n",
    "plt.title('Confusion Matrix - Ensemble Model')\n",
    "plt.ylabel('True Label')\n",
    "plt.xlabel('Predicted Label')\n",
    "plt.show()\n"
   ]
  },
  {
   "cell_type": "code",
   "execution_count": 210,
   "metadata": {},
   "outputs": [
    {
     "data": {
      "text/plain": [
       "<Figure size 1000x600 with 0 Axes>"
      ]
     },
     "metadata": {},
     "output_type": "display_data"
    },
    {
     "data": {
      "image/png": "[encoded data removed]",
      "text/plain": [
       "<Figure size 640x480 with 1 Axes>"
      ]
     },
     "metadata": {},
     "output_type": "display_data"
    }
   ],
   "source": [
    "# Create the performance comparison dataframe\n",
    "\n",
    "import pandas as pd\n",
    "performance_df = pd.DataFrame({\n",
    "    'Model': list(results.keys()) + ['Ensemble'],\n",
    "    'Accuracy': [results[model]['accuracy'] for model in results.keys()] + [accuracy],\n",
    "    'Precision': [results[model]['precision'] for model in results.keys()] + [precision],\n",
    "    'F1 Score': [results[model]['f1'] for model in results.keys()] + [f1]\n",
    "})\n",
    "\n",
    "# plotting performance of all models\n",
    "plt.figure(figsize=(10, 6))\n",
    "performance_df.set_index('Model').plot(kind='bar', color=['skyblue', 'lightgreen', 'lightcoral'])\n",
    "plt.title('Model Performance Comparison (Accuracy, Precision, F1 Score)')\n",
    "plt.ylabel('Score')\n",
    "plt.xticks(rotation=45)\n",
    "plt.tight_layout()\n",
    "plt.show()\n"
   ]
  },
  {
   "cell_type": "code",
   "execution_count": 211,
   "metadata": {},
   "outputs": [
    {
     "name": "stdout",
     "output_type": "stream",
     "text": [
      "\n",
      "Ensemble model saved as 'mental_health_predictor_ensemble.joblib'\n"
     ]
    }
   ],
   "source": [
    "\n",
    "# Save the ensemble model\n",
    "import joblib\n",
    "joblib.dump(ensemble, 'mental_health_predictor_ensemble.joblib')\n",
    "print(\"\\nEnsemble model saved as 'mental_health_predictor_ensemble.joblib'\")"
   ]
  }
 ],
 "metadata": {
  "kernelspec": {
   "display_name": "venv",
   "language": "python",
   "name": "python3"
  },
  "language_info": {
   "codemirror_mode": {
    "name": "ipython",
    "version": 3
   },
   "file_extension": ".py",
   "mimetype": "text/x-python",
   "name": "python",
   "nbconvert_exporter": "python",
   "pygments_lexer": "ipython3",
   "version": "3.12.6"
  }
 },
 "nbformat": 4,
 "nbformat_minor": 2
}
